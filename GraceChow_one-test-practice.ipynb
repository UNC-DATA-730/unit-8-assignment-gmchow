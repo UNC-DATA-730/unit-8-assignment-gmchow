{
 "cells": [
  {
   "cell_type": "code",
   "execution_count": 1,
   "id": "d7fdfe7b-8132-418d-b64a-3ad3037e6676",
   "metadata": {},
   "outputs": [
    {
     "name": "stderr",
     "output_type": "stream",
     "text": [
      "Warning message:\n",
      "“Your system is mis-configured: ‘/var/db/timezone/localtime’ is not a symlink”\n",
      "Warning message:\n",
      "“‘/var/db/timezone/localtime’ is not identical to any known timezone file”\n",
      "── \u001b[1mAttaching core tidyverse packages\u001b[22m ──────────────────────── tidyverse 2.0.0 ──\n",
      "\u001b[32m✔\u001b[39m \u001b[34mdplyr    \u001b[39m 1.1.4     \u001b[32m✔\u001b[39m \u001b[34mreadr    \u001b[39m 2.1.5\n",
      "\u001b[32m✔\u001b[39m \u001b[34mforcats  \u001b[39m 1.0.0     \u001b[32m✔\u001b[39m \u001b[34mstringr  \u001b[39m 1.5.1\n",
      "\u001b[32m✔\u001b[39m \u001b[34mggplot2  \u001b[39m 3.5.2     \u001b[32m✔\u001b[39m \u001b[34mtibble   \u001b[39m 3.3.0\n",
      "\u001b[32m✔\u001b[39m \u001b[34mlubridate\u001b[39m 1.9.4     \u001b[32m✔\u001b[39m \u001b[34mtidyr    \u001b[39m 1.3.1\n",
      "── \u001b[1mConflicts\u001b[22m ────────────────────────────────────────── tidyverse_conflicts() ──\n",
      "\u001b[31m✖\u001b[39m \u001b[34mdplyr\u001b[39m::\u001b[32mfilter()\u001b[39m masks \u001b[34mstats\u001b[39m::filter()\n",
      "\u001b[31m✖\u001b[39m \u001b[34mdplyr\u001b[39m::\u001b[32mlag()\u001b[39m    masks \u001b[34mstats\u001b[39m::lag()\n",
      "\u001b[36mℹ\u001b[39m Use the conflicted package (\u001b[3m\u001b[34m<http://conflicted.r-lib.org/>\u001b[39m\u001b[23m) to force all conflicts to become errors\n"
     ]
    }
   ],
   "source": [
    "library('purrr')\n",
    "library('tidyverse')"
   ]
  },
  {
   "cell_type": "markdown",
   "id": "dd3a95b4-2edd-4ca7-be1c-783fb5e5a9a4",
   "metadata": {},
   "source": [
    "Consider this example from [Think Stats 2e](https://greenteapress.com/wp/think-stats-2e/): \n",
    "\n",
    "You operate a casino and a player at one of your craps tables is winning. You suspect the player has employed\n",
    "a crooked die. You collect the following data for the players first 60 rolls with the die in question."
   ]
  },
  {
   "cell_type": "code",
   "execution_count": 2,
   "id": "08699110-c0a6-46c6-bbe1-c43af607c440",
   "metadata": {},
   "outputs": [
    {
     "data": {
      "text/html": [
       "<table class=\"dataframe\">\n",
       "<caption>A tibble: 6 × 2</caption>\n",
       "<thead>\n",
       "\t<tr><th scope=col>die_roll</th><th scope=col>count</th></tr>\n",
       "\t<tr><th scope=col>&lt;dbl&gt;</th><th scope=col>&lt;dbl&gt;</th></tr>\n",
       "</thead>\n",
       "<tbody>\n",
       "\t<tr><td>1</td><td> 8</td></tr>\n",
       "\t<tr><td>2</td><td> 9</td></tr>\n",
       "\t<tr><td>3</td><td>19</td></tr>\n",
       "\t<tr><td>4</td><td> 5</td></tr>\n",
       "\t<tr><td>5</td><td> 8</td></tr>\n",
       "\t<tr><td>6</td><td>11</td></tr>\n",
       "</tbody>\n",
       "</table>\n"
      ],
      "text/latex": [
       "A tibble: 6 × 2\n",
       "\\begin{tabular}{ll}\n",
       " die\\_roll & count\\\\\n",
       " <dbl> & <dbl>\\\\\n",
       "\\hline\n",
       "\t 1 &  8\\\\\n",
       "\t 2 &  9\\\\\n",
       "\t 3 & 19\\\\\n",
       "\t 4 &  5\\\\\n",
       "\t 5 &  8\\\\\n",
       "\t 6 & 11\\\\\n",
       "\\end{tabular}\n"
      ],
      "text/markdown": [
       "\n",
       "A tibble: 6 × 2\n",
       "\n",
       "| die_roll &lt;dbl&gt; | count &lt;dbl&gt; |\n",
       "|---|---|\n",
       "| 1 |  8 |\n",
       "| 2 |  9 |\n",
       "| 3 | 19 |\n",
       "| 4 |  5 |\n",
       "| 5 |  8 |\n",
       "| 6 | 11 |\n",
       "\n"
      ],
      "text/plain": [
       "  die_roll count\n",
       "1 1         8   \n",
       "2 2         9   \n",
       "3 3        19   \n",
       "4 4         5   \n",
       "5 5         8   \n",
       "6 6        11   "
      ]
     },
     "metadata": {},
     "output_type": "display_data"
    }
   ],
   "source": [
    "observed_data = tribble(\n",
    "    ~die_roll, ~count,\n",
    "     1,          8,\n",
    "     2,          9,\n",
    "     3,         19,\n",
    "     4,          5,\n",
    "     5,          8, \n",
    "     6,          11\n",
    ")\n",
    "\n",
    "observed_data"
   ]
  },
  {
   "cell_type": "markdown",
   "id": "9a2b38e9-dbc8-4835-92e2-5867dc30702a",
   "metadata": {},
   "source": [
    "Let's select a \"test statistic\" quantify how the observed data deviates from what we would expect *on average* from a fair die. Then we can find the null distribution of the test statistic and leverage that distribution to investigate the fairness of the suspicious die."
   ]
  },
  {
   "cell_type": "markdown",
   "id": "2c2d4a40-00cc-4d49-8dae-871dc518553c",
   "metadata": {},
   "source": [
    "The following is a table that represents a fair die:"
   ]
  },
  {
   "cell_type": "code",
   "execution_count": 3,
   "id": "352005d4-0c63-4ce5-b1a2-68490d7e1aaf",
   "metadata": {},
   "outputs": [
    {
     "data": {
      "text/html": [
       "<table class=\"dataframe\">\n",
       "<caption>A tibble: 6 × 1</caption>\n",
       "<thead>\n",
       "\t<tr><th scope=col>die_roll</th></tr>\n",
       "\t<tr><th scope=col>&lt;dbl&gt;</th></tr>\n",
       "</thead>\n",
       "<tbody>\n",
       "\t<tr><td>1</td></tr>\n",
       "\t<tr><td>2</td></tr>\n",
       "\t<tr><td>3</td></tr>\n",
       "\t<tr><td>4</td></tr>\n",
       "\t<tr><td>5</td></tr>\n",
       "\t<tr><td>6</td></tr>\n",
       "</tbody>\n",
       "</table>\n"
      ],
      "text/latex": [
       "A tibble: 6 × 1\n",
       "\\begin{tabular}{l}\n",
       " die\\_roll\\\\\n",
       " <dbl>\\\\\n",
       "\\hline\n",
       "\t 1\\\\\n",
       "\t 2\\\\\n",
       "\t 3\\\\\n",
       "\t 4\\\\\n",
       "\t 5\\\\\n",
       "\t 6\\\\\n",
       "\\end{tabular}\n"
      ],
      "text/markdown": [
       "\n",
       "A tibble: 6 × 1\n",
       "\n",
       "| die_roll &lt;dbl&gt; |\n",
       "|---|\n",
       "| 1 |\n",
       "| 2 |\n",
       "| 3 |\n",
       "| 4 |\n",
       "| 5 |\n",
       "| 6 |\n",
       "\n"
      ],
      "text/plain": [
       "  die_roll\n",
       "1 1       \n",
       "2 2       \n",
       "3 3       \n",
       "4 4       \n",
       "5 5       \n",
       "6 6       "
      ]
     },
     "metadata": {},
     "output_type": "display_data"
    }
   ],
   "source": [
    "fair_die = tribble(\n",
    "    ~die_roll,\n",
    "    1,\n",
    "    2,\n",
    "    3,\n",
    "    4,\n",
    "    5, \n",
    "    6\n",
    ")\n",
    "\n",
    "fair_die"
   ]
  },
  {
   "cell_type": "markdown",
   "id": "d5d1aa03-f15f-48f8-9a13-ac2cbb7e785a",
   "metadata": {},
   "source": [
    "We can use the `slice_sample` with `replace = TRUE` to simulate a \"n\" dice rolls."
   ]
  },
  {
   "cell_type": "code",
   "execution_count": 4,
   "id": "dd7598ab-fe11-4b7c-90a9-c0036b1c1d5f",
   "metadata": {},
   "outputs": [
    {
     "data": {
      "text/html": [
       "<table class=\"dataframe\">\n",
       "<caption>A tibble: 10 × 1</caption>\n",
       "<thead>\n",
       "\t<tr><th scope=col>die_roll</th></tr>\n",
       "\t<tr><th scope=col>&lt;dbl&gt;</th></tr>\n",
       "</thead>\n",
       "<tbody>\n",
       "\t<tr><td>2</td></tr>\n",
       "\t<tr><td>6</td></tr>\n",
       "\t<tr><td>3</td></tr>\n",
       "\t<tr><td>3</td></tr>\n",
       "\t<tr><td>4</td></tr>\n",
       "\t<tr><td>3</td></tr>\n",
       "\t<tr><td>1</td></tr>\n",
       "\t<tr><td>2</td></tr>\n",
       "\t<tr><td>5</td></tr>\n",
       "\t<tr><td>1</td></tr>\n",
       "</tbody>\n",
       "</table>\n"
      ],
      "text/latex": [
       "A tibble: 10 × 1\n",
       "\\begin{tabular}{l}\n",
       " die\\_roll\\\\\n",
       " <dbl>\\\\\n",
       "\\hline\n",
       "\t 2\\\\\n",
       "\t 6\\\\\n",
       "\t 3\\\\\n",
       "\t 3\\\\\n",
       "\t 4\\\\\n",
       "\t 3\\\\\n",
       "\t 1\\\\\n",
       "\t 2\\\\\n",
       "\t 5\\\\\n",
       "\t 1\\\\\n",
       "\\end{tabular}\n"
      ],
      "text/markdown": [
       "\n",
       "A tibble: 10 × 1\n",
       "\n",
       "| die_roll &lt;dbl&gt; |\n",
       "|---|\n",
       "| 2 |\n",
       "| 6 |\n",
       "| 3 |\n",
       "| 3 |\n",
       "| 4 |\n",
       "| 3 |\n",
       "| 1 |\n",
       "| 2 |\n",
       "| 5 |\n",
       "| 1 |\n",
       "\n"
      ],
      "text/plain": [
       "   die_roll\n",
       "1  2       \n",
       "2  6       \n",
       "3  3       \n",
       "4  3       \n",
       "5  4       \n",
       "6  3       \n",
       "7  1       \n",
       "8  2       \n",
       "9  5       \n",
       "10 1       "
      ]
     },
     "metadata": {},
     "output_type": "display_data"
    }
   ],
   "source": [
    "slice_sample(fair_die, n = 10, replace = TRUE)\n",
    "\n",
    "#similar to the `hypothesize` function from infer"
   ]
  },
  {
   "cell_type": "markdown",
   "id": "29205eb2-86ca-4052-a2ff-9d50759484a5",
   "metadata": {},
   "source": [
    "The following is a function that calcuates the absolute deviance for a set of \"n\" rolls from what we would expect from a fair dice *on average*.\n",
    "\n",
    "```r\n",
    "abs_deviance = function(roll_frequencies) {\n",
    "    n = sum(roll_frequencies)\n",
    "    expected = n / 6\n",
    "    abs(roll_frequencies - expected) |> sum()\n",
    "}\n",
    "\n",
    "```"
   ]
  },
  {
   "cell_type": "markdown",
   "id": "789a0e73-ca28-4129-9a63-eadab09b790a",
   "metadata": {},
   "source": [
    "Create this function in the cell below and calculate \"absolute deviance\" for the suspicious die.\n",
    "\n",
    "(**Hint:** use `summarize(abs_dev = abs_deviance(count))`)"
   ]
  },
  {
   "cell_type": "code",
   "execution_count": 5,
   "id": "401f6d25-ac49-4d5f-88a8-978d0957e70f",
   "metadata": {},
   "outputs": [],
   "source": [
    "abs_deviance = function(roll_frequencies) {\n",
    "    n = sum(roll_frequencies)\n",
    "    expected = n/6\n",
    "    abs(roll_frequencies - expected) |> sum()\n",
    "}\n"
   ]
  },
  {
   "cell_type": "markdown",
   "id": "9dc4d8fe-a095-48b7-b564-21051c7463cf",
   "metadata": {},
   "source": [
    "The `purrr` code below generates simulates rolling a fair die 60 times for 1,000 iterations.\n",
    "\n",
    "```r\n",
    "n_iterations = 1000\n",
    "n_rolls = 60\n",
    "\n",
    "1:n_iterations |> map_dfr(~slice_sample(fair_die, n = 60, replace = TRUE), .id = 'replicate')\n",
    "\n",
    "```\n",
    "\n",
    "Run this code and collect the output in a table called `simulated_data`."
   ]
  },
  {
   "cell_type": "code",
   "execution_count": 6,
   "id": "040cb0b0-4d25-4c43-9935-35d6c6e5932e",
   "metadata": {},
   "outputs": [
    {
     "data": {
      "text/html": [
       "<table class=\"dataframe\">\n",
       "<caption>A tibble: 60000 × 2</caption>\n",
       "<thead>\n",
       "\t<tr><th scope=col>replicate</th><th scope=col>die_roll</th></tr>\n",
       "\t<tr><th scope=col>&lt;chr&gt;</th><th scope=col>&lt;dbl&gt;</th></tr>\n",
       "</thead>\n",
       "<tbody>\n",
       "\t<tr><td>1</td><td>3</td></tr>\n",
       "\t<tr><td>1</td><td>4</td></tr>\n",
       "\t<tr><td>1</td><td>6</td></tr>\n",
       "\t<tr><td>1</td><td>6</td></tr>\n",
       "\t<tr><td>1</td><td>5</td></tr>\n",
       "\t<tr><td>1</td><td>3</td></tr>\n",
       "\t<tr><td>1</td><td>1</td></tr>\n",
       "\t<tr><td>1</td><td>6</td></tr>\n",
       "\t<tr><td>1</td><td>6</td></tr>\n",
       "\t<tr><td>1</td><td>5</td></tr>\n",
       "\t<tr><td>1</td><td>6</td></tr>\n",
       "\t<tr><td>1</td><td>3</td></tr>\n",
       "\t<tr><td>1</td><td>3</td></tr>\n",
       "\t<tr><td>1</td><td>4</td></tr>\n",
       "\t<tr><td>1</td><td>3</td></tr>\n",
       "\t<tr><td>1</td><td>3</td></tr>\n",
       "\t<tr><td>1</td><td>4</td></tr>\n",
       "\t<tr><td>1</td><td>4</td></tr>\n",
       "\t<tr><td>1</td><td>2</td></tr>\n",
       "\t<tr><td>1</td><td>4</td></tr>\n",
       "\t<tr><td>1</td><td>3</td></tr>\n",
       "\t<tr><td>1</td><td>3</td></tr>\n",
       "\t<tr><td>1</td><td>3</td></tr>\n",
       "\t<tr><td>1</td><td>5</td></tr>\n",
       "\t<tr><td>1</td><td>5</td></tr>\n",
       "\t<tr><td>1</td><td>2</td></tr>\n",
       "\t<tr><td>1</td><td>5</td></tr>\n",
       "\t<tr><td>1</td><td>3</td></tr>\n",
       "\t<tr><td>1</td><td>5</td></tr>\n",
       "\t<tr><td>1</td><td>3</td></tr>\n",
       "\t<tr><td>⋮</td><td>⋮</td></tr>\n",
       "\t<tr><td>1000</td><td>6</td></tr>\n",
       "\t<tr><td>1000</td><td>1</td></tr>\n",
       "\t<tr><td>1000</td><td>2</td></tr>\n",
       "\t<tr><td>1000</td><td>4</td></tr>\n",
       "\t<tr><td>1000</td><td>3</td></tr>\n",
       "\t<tr><td>1000</td><td>6</td></tr>\n",
       "\t<tr><td>1000</td><td>6</td></tr>\n",
       "\t<tr><td>1000</td><td>6</td></tr>\n",
       "\t<tr><td>1000</td><td>2</td></tr>\n",
       "\t<tr><td>1000</td><td>5</td></tr>\n",
       "\t<tr><td>1000</td><td>6</td></tr>\n",
       "\t<tr><td>1000</td><td>2</td></tr>\n",
       "\t<tr><td>1000</td><td>5</td></tr>\n",
       "\t<tr><td>1000</td><td>4</td></tr>\n",
       "\t<tr><td>1000</td><td>4</td></tr>\n",
       "\t<tr><td>1000</td><td>5</td></tr>\n",
       "\t<tr><td>1000</td><td>1</td></tr>\n",
       "\t<tr><td>1000</td><td>2</td></tr>\n",
       "\t<tr><td>1000</td><td>5</td></tr>\n",
       "\t<tr><td>1000</td><td>4</td></tr>\n",
       "\t<tr><td>1000</td><td>4</td></tr>\n",
       "\t<tr><td>1000</td><td>4</td></tr>\n",
       "\t<tr><td>1000</td><td>5</td></tr>\n",
       "\t<tr><td>1000</td><td>6</td></tr>\n",
       "\t<tr><td>1000</td><td>5</td></tr>\n",
       "\t<tr><td>1000</td><td>1</td></tr>\n",
       "\t<tr><td>1000</td><td>4</td></tr>\n",
       "\t<tr><td>1000</td><td>5</td></tr>\n",
       "\t<tr><td>1000</td><td>5</td></tr>\n",
       "\t<tr><td>1000</td><td>4</td></tr>\n",
       "</tbody>\n",
       "</table>\n"
      ],
      "text/latex": [
       "A tibble: 60000 × 2\n",
       "\\begin{tabular}{ll}\n",
       " replicate & die\\_roll\\\\\n",
       " <chr> & <dbl>\\\\\n",
       "\\hline\n",
       "\t 1 & 3\\\\\n",
       "\t 1 & 4\\\\\n",
       "\t 1 & 6\\\\\n",
       "\t 1 & 6\\\\\n",
       "\t 1 & 5\\\\\n",
       "\t 1 & 3\\\\\n",
       "\t 1 & 1\\\\\n",
       "\t 1 & 6\\\\\n",
       "\t 1 & 6\\\\\n",
       "\t 1 & 5\\\\\n",
       "\t 1 & 6\\\\\n",
       "\t 1 & 3\\\\\n",
       "\t 1 & 3\\\\\n",
       "\t 1 & 4\\\\\n",
       "\t 1 & 3\\\\\n",
       "\t 1 & 3\\\\\n",
       "\t 1 & 4\\\\\n",
       "\t 1 & 4\\\\\n",
       "\t 1 & 2\\\\\n",
       "\t 1 & 4\\\\\n",
       "\t 1 & 3\\\\\n",
       "\t 1 & 3\\\\\n",
       "\t 1 & 3\\\\\n",
       "\t 1 & 5\\\\\n",
       "\t 1 & 5\\\\\n",
       "\t 1 & 2\\\\\n",
       "\t 1 & 5\\\\\n",
       "\t 1 & 3\\\\\n",
       "\t 1 & 5\\\\\n",
       "\t 1 & 3\\\\\n",
       "\t ⋮ & ⋮\\\\\n",
       "\t 1000 & 6\\\\\n",
       "\t 1000 & 1\\\\\n",
       "\t 1000 & 2\\\\\n",
       "\t 1000 & 4\\\\\n",
       "\t 1000 & 3\\\\\n",
       "\t 1000 & 6\\\\\n",
       "\t 1000 & 6\\\\\n",
       "\t 1000 & 6\\\\\n",
       "\t 1000 & 2\\\\\n",
       "\t 1000 & 5\\\\\n",
       "\t 1000 & 6\\\\\n",
       "\t 1000 & 2\\\\\n",
       "\t 1000 & 5\\\\\n",
       "\t 1000 & 4\\\\\n",
       "\t 1000 & 4\\\\\n",
       "\t 1000 & 5\\\\\n",
       "\t 1000 & 1\\\\\n",
       "\t 1000 & 2\\\\\n",
       "\t 1000 & 5\\\\\n",
       "\t 1000 & 4\\\\\n",
       "\t 1000 & 4\\\\\n",
       "\t 1000 & 4\\\\\n",
       "\t 1000 & 5\\\\\n",
       "\t 1000 & 6\\\\\n",
       "\t 1000 & 5\\\\\n",
       "\t 1000 & 1\\\\\n",
       "\t 1000 & 4\\\\\n",
       "\t 1000 & 5\\\\\n",
       "\t 1000 & 5\\\\\n",
       "\t 1000 & 4\\\\\n",
       "\\end{tabular}\n"
      ],
      "text/markdown": [
       "\n",
       "A tibble: 60000 × 2\n",
       "\n",
       "| replicate &lt;chr&gt; | die_roll &lt;dbl&gt; |\n",
       "|---|---|\n",
       "| 1 | 3 |\n",
       "| 1 | 4 |\n",
       "| 1 | 6 |\n",
       "| 1 | 6 |\n",
       "| 1 | 5 |\n",
       "| 1 | 3 |\n",
       "| 1 | 1 |\n",
       "| 1 | 6 |\n",
       "| 1 | 6 |\n",
       "| 1 | 5 |\n",
       "| 1 | 6 |\n",
       "| 1 | 3 |\n",
       "| 1 | 3 |\n",
       "| 1 | 4 |\n",
       "| 1 | 3 |\n",
       "| 1 | 3 |\n",
       "| 1 | 4 |\n",
       "| 1 | 4 |\n",
       "| 1 | 2 |\n",
       "| 1 | 4 |\n",
       "| 1 | 3 |\n",
       "| 1 | 3 |\n",
       "| 1 | 3 |\n",
       "| 1 | 5 |\n",
       "| 1 | 5 |\n",
       "| 1 | 2 |\n",
       "| 1 | 5 |\n",
       "| 1 | 3 |\n",
       "| 1 | 5 |\n",
       "| 1 | 3 |\n",
       "| ⋮ | ⋮ |\n",
       "| 1000 | 6 |\n",
       "| 1000 | 1 |\n",
       "| 1000 | 2 |\n",
       "| 1000 | 4 |\n",
       "| 1000 | 3 |\n",
       "| 1000 | 6 |\n",
       "| 1000 | 6 |\n",
       "| 1000 | 6 |\n",
       "| 1000 | 2 |\n",
       "| 1000 | 5 |\n",
       "| 1000 | 6 |\n",
       "| 1000 | 2 |\n",
       "| 1000 | 5 |\n",
       "| 1000 | 4 |\n",
       "| 1000 | 4 |\n",
       "| 1000 | 5 |\n",
       "| 1000 | 1 |\n",
       "| 1000 | 2 |\n",
       "| 1000 | 5 |\n",
       "| 1000 | 4 |\n",
       "| 1000 | 4 |\n",
       "| 1000 | 4 |\n",
       "| 1000 | 5 |\n",
       "| 1000 | 6 |\n",
       "| 1000 | 5 |\n",
       "| 1000 | 1 |\n",
       "| 1000 | 4 |\n",
       "| 1000 | 5 |\n",
       "| 1000 | 5 |\n",
       "| 1000 | 4 |\n",
       "\n"
      ],
      "text/plain": [
       "      replicate die_roll\n",
       "1     1         3       \n",
       "2     1         4       \n",
       "3     1         6       \n",
       "4     1         6       \n",
       "5     1         5       \n",
       "6     1         3       \n",
       "7     1         1       \n",
       "8     1         6       \n",
       "9     1         6       \n",
       "10    1         5       \n",
       "11    1         6       \n",
       "12    1         3       \n",
       "13    1         3       \n",
       "14    1         4       \n",
       "15    1         3       \n",
       "16    1         3       \n",
       "17    1         4       \n",
       "18    1         4       \n",
       "19    1         2       \n",
       "20    1         4       \n",
       "21    1         3       \n",
       "22    1         3       \n",
       "23    1         3       \n",
       "24    1         5       \n",
       "25    1         5       \n",
       "26    1         2       \n",
       "27    1         5       \n",
       "28    1         3       \n",
       "29    1         5       \n",
       "30    1         3       \n",
       "⋮     ⋮         ⋮       \n",
       "59971 1000      6       \n",
       "59972 1000      1       \n",
       "59973 1000      2       \n",
       "59974 1000      4       \n",
       "59975 1000      3       \n",
       "59976 1000      6       \n",
       "59977 1000      6       \n",
       "59978 1000      6       \n",
       "59979 1000      2       \n",
       "59980 1000      5       \n",
       "59981 1000      6       \n",
       "59982 1000      2       \n",
       "59983 1000      5       \n",
       "59984 1000      4       \n",
       "59985 1000      4       \n",
       "59986 1000      5       \n",
       "59987 1000      1       \n",
       "59988 1000      2       \n",
       "59989 1000      5       \n",
       "59990 1000      4       \n",
       "59991 1000      4       \n",
       "59992 1000      4       \n",
       "59993 1000      5       \n",
       "59994 1000      6       \n",
       "59995 1000      5       \n",
       "59996 1000      1       \n",
       "59997 1000      4       \n",
       "59998 1000      5       \n",
       "59999 1000      5       \n",
       "60000 1000      4       "
      ]
     },
     "metadata": {},
     "output_type": "display_data"
    }
   ],
   "source": [
    "n_iterations = 1000\n",
    "n_rolls = 60\n",
    "\n",
    "1:n_iterations |> map_dfr(~slice_sample(fair_die, n = 60, replace = TRUE),\n",
    "                          .id = 'replicate')"
   ]
  },
  {
   "cell_type": "markdown",
   "id": "32579dae-1e29-4733-8ffe-3c4b42068f16",
   "metadata": {},
   "source": [
    "Now we are ready to calculate the null distribution of our test statistic!\n",
    "\n",
    "Using `simulated_data`,\n",
    "1. `group_by` the `replicate` variable (add `.drop = FALSE` to make sure you include zero frequency counts),\n",
    "2. `count` the frequency of `die_roll`. Last, \n",
    "3. `summarize` each group using the `abs_deviance` function from above. Call you new column `abs_dev`.\n",
    "\n",
    "Capture the output into a table called `abs_dev_null_dist`."
   ]
  },
  {
   "cell_type": "code",
   "execution_count": 8,
   "id": "fb2628c0-649e-4cfc-96ca-5eb8e4840b11",
   "metadata": {},
   "outputs": [
    {
     "ename": "ERROR",
     "evalue": "Error: object 'simulated_data' not found\n",
     "output_type": "error",
     "traceback": [
      "Error: object 'simulated_data' not found\nTraceback:\n",
      "1. count(group_by(simulated_data, replicate, .drop = FALSE), die_roll)",
      "2. group_by(simulated_data, replicate, .drop = FALSE)",
      "3. .handleSimpleError(function (cnd) \n . {\n .     watcher$capture_plot_and_output()\n .     cnd <- sanitize_call(cnd)\n .     watcher$push(cnd)\n .     switch(on_error, continue = invokeRestart(\"eval_continue\"), \n .         stop = invokeRestart(\"eval_stop\"), error = NULL)\n . }, \"object 'simulated_data' not found\", base::quote(eval(expr, \n .     envir)))"
     ]
    }
   ],
   "source": [
    "simulated_data |> group_by(replicate, .drop = FALSE) |> count(die_roll) |> summarise()\n"
   ]
  },
  {
   "cell_type": "markdown",
   "id": "df834c63-b588-445e-be5c-47e628749932",
   "metadata": {},
   "source": [
    "Plot a histogram of `abs_dev`. Use `geom_vline` to show the positon of our the test statistic calculated from the suspicious die."
   ]
  },
  {
   "cell_type": "code",
   "execution_count": null,
   "id": "f99a1a8d-2c30-4fd0-a570-a6ee77a87cd4",
   "metadata": {},
   "outputs": [],
   "source": [
    "ggplot(abs_dev_null_dist, aes(x = abs_dev)) + geom_histogram()\n",
    "\n"
   ]
  },
  {
   "cell_type": "markdown",
   "id": "0e2ae775-1aa0-4fd7-8993-7eff95dce788",
   "metadata": {},
   "source": [
    "Can you calculate a \"p-value\" for our suspicous die using the null distribution and the observed test statistic?"
   ]
  },
  {
   "cell_type": "code",
   "execution_count": null,
   "id": "b573dd63-b6e8-48b7-a41a-6a20a68fc6d6",
   "metadata": {},
   "outputs": [],
   "source": [
    "abs_dev_null_dist |> summarize(p = sum(abs_dev >= obs) / n())"
   ]
  },
  {
   "cell_type": "markdown",
   "id": "89ecbeb7-71de-4b40-885b-6a33f9e217e2",
   "metadata": {},
   "source": [
    "Redo the steps above but this time use the [Chi square](https://en.wikipedia.org/wiki/Chi-squared_test) statistic. The **Chi square** test statistic simply quantifies the sum of squared differences from expected values divided by the expected value.\n",
    "\n",
    "You can re-use `simulated_data`.\n",
    "\n",
    "Here is a function in `R`:\n",
    "\n",
    "```r\n",
    "chi_square = function(roll_frequencies) {\n",
    "    n = sum(roll_frequencies)\n",
    "    expected = n / 6\n",
    "    sum((roll_frequencies - expected)**2 / expected)\n",
    "}\n",
    "\n",
    "```"
   ]
  },
  {
   "cell_type": "code",
   "execution_count": 9,
   "id": "a67e4f4f-c177-4524-9e84-255a12694471",
   "metadata": {},
   "outputs": [
    {
     "ename": "ERROR",
     "evalue": "Error: object 'roll_frequencies' not found\n",
     "output_type": "error",
     "traceback": [
      "Error: object 'roll_frequencies' not found\nTraceback:\n",
      "1. .handleSimpleError(function (cnd) \n . {\n .     watcher$capture_plot_and_output()\n .     cnd <- sanitize_call(cnd)\n .     watcher$push(cnd)\n .     switch(on_error, continue = invokeRestart(\"eval_continue\"), \n .         stop = invokeRestart(\"eval_stop\"), error = NULL)\n . }, \"object 'roll_frequencies' not found\", base::quote(eval(expr, \n .     envir)))"
     ]
    }
   ],
   "source": [
    "chi_square = function(roll_frequencies) {\n",
    "    n = sum(roll_frequencies)\n",
    "    expected = n / 6\n",
    "    sum((roll_frequencies - expected)**2 / expected)\n",
    "}\n",
    "\n",
    "obs = chi_square(roll_frequencies)\n",
    "\n",
    "chisq_null_dist = simulated_data |> group_by(replace, .drop = FALSE) |>\n",
    "    count(die_roll) |> summarize(chisq = chi_square(n))"
   ]
  },
  {
   "cell_type": "markdown",
   "id": "c7e1909c-8168-404a-b548-5df34ab58eef",
   "metadata": {},
   "source": [
    "Is the \"p-value\" using the Chi square test statistic lower or higher than that calcuated using \"absolute deviance\" as the test statistic? "
   ]
  },
  {
   "cell_type": "code",
   "execution_count": null,
   "id": "1c72772d-1a3c-436f-8afa-1a8f1e1b225e",
   "metadata": {},
   "outputs": [],
   "source": []
  }
 ],
 "metadata": {
  "kernelspec": {
   "display_name": "data730:R",
   "language": "R",
   "name": "conda-env-data730-r"
  },
  "language_info": {
   "codemirror_mode": "r",
   "file_extension": ".r",
   "mimetype": "text/x-r-source",
   "name": "R",
   "pygments_lexer": "r",
   "version": "4.3.3"
  }
 },
 "nbformat": 4,
 "nbformat_minor": 5
}
